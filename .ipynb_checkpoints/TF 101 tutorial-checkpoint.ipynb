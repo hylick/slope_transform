{
 "cells": [
  {
   "cell_type": "code",
   "execution_count": 19,
   "metadata": {},
   "outputs": [],
   "source": [
    "import tensorflow as tf\n",
    "import numpy as np\n",
    "import matplotlib.pyplot as plt"
   ]
  },
  {
   "cell_type": "code",
   "execution_count": 20,
   "metadata": {},
   "outputs": [
    {
     "name": "stdout",
     "output_type": "stream",
     "text": [
      "Tensor(\"Const_18:0\", shape=(), dtype=float32)\n",
      "Tensor(\"truediv_6:0\", shape=(), dtype=float32)\n"
     ]
    }
   ],
   "source": [
    "# Build the computation graph\n",
    "## nodes: constants, variables, and operations\n",
    "## edges: tensors\n",
    "\n",
    "## establish some constants on which to operate\n",
    "a = tf.constant(1.0)\n",
    "print(a)\n",
    "b = tf.constant(1.0)\n",
    "c = tf.constant(4.0)\n",
    "\n",
    "## define an operation\n",
    "d = (a + b) / c     # or tf.dv(tf.add(a,b),c)\n",
    "print(d)"
   ]
  },
  {
   "cell_type": "code",
   "execution_count": 21,
   "metadata": {},
   "outputs": [
    {
     "name": "stdout",
     "output_type": "stream",
     "text": [
      "0.5\n",
      "1.0\n",
      "1.0\n",
      "4.0\n",
      "[1.0, 1.0]\n"
     ]
    }
   ],
   "source": [
    "# TensorFlow works in the context of a session, so we create one here\n",
    "with tf.Session() as session:\n",
    "    print(session.run(d))     # evaluation one of the nodes. in this case, the \n",
    "                              # operation node represented by python variable 'd'\n",
    "    print(session.run(a))     # executes the operation represented by python variable 'a'\n",
    "    print(session.run(b))     # executes the operation represented by python variable 'b'\n",
    "    print(session.run(c))     # executes the operation represented by python variable 'c'\n",
    "    print(session.run([a,b])) # can execute multiple ops, here ops represented by python variables 'a' and 'b'"
   ]
  }
 ],
 "metadata": {
  "kernelspec": {
   "display_name": "Python 3",
   "language": "python",
   "name": "python3"
  },
  "language_info": {
   "codemirror_mode": {
    "name": "ipython",
    "version": 3
   },
   "file_extension": ".py",
   "mimetype": "text/x-python",
   "name": "python",
   "nbconvert_exporter": "python",
   "pygments_lexer": "ipython3",
   "version": "3.6.4"
  }
 },
 "nbformat": 4,
 "nbformat_minor": 2
}
